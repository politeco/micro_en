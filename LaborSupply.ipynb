{
  "cells": [
    {
      "cell_type": "code",
      "execution_count": 1,
      "metadata": {
        "id": "CxFpiB6srdOF"
      },
      "outputs": [],
      "source": [
        "import numpy as np \n",
        "from matplotlib import pyplot as plt"
      ]
    },
    {
      "cell_type": "markdown",
      "metadata": {},
      "source": [
        "# Tax Simulator\n",
        "\n",
        "The SRD is a tax simulator that can be downloaded easily using the tool pip. The documentation can be found here for the tax simulator: [https://creei-models.github.io/srd/](https://creei-models.github.io/srd/).  We only need to issue this line to install the tool in our google colab environment: \n"
      ]
    },
    {
      "cell_type": "code",
      "execution_count": 2,
      "metadata": {
        "colab": {
          "base_uri": "https://localhost:8080/",
          "height": 167
        },
        "id": "uusn0OpjrfiP",
        "outputId": "a656a67e-af32-4890-e2fd-f24afd790fb7"
      },
      "outputs": [
        {
          "name": "stdout",
          "output_type": "stream",
          "text": [
            "Defaulting to user installation because normal site-packages is not writeable\n",
            "Requirement already satisfied: srd in /Users/loulou/.local/lib/python3.8/site-packages (1.1.4)\n",
            "Requirement already satisfied: numba in /Users/loulou/anaconda3/lib/python3.8/site-packages (from srd) (0.51.2)\n",
            "Requirement already satisfied: pandas in /Users/loulou/.local/lib/python3.8/site-packages (from srd) (1.3.2)\n",
            "Requirement already satisfied: srpp in /Users/loulou/.local/lib/python3.8/site-packages (from srd) (0.5.2)\n",
            "Requirement already satisfied: xlrd in /Users/loulou/anaconda3/lib/python3.8/site-packages (from srd) (1.2.0)\n",
            "Requirement already satisfied: numpy in /Users/loulou/anaconda3/lib/python3.8/site-packages (from srd) (1.19.2)\n",
            "Requirement already satisfied: llvmlite<0.35,>=0.34.0.dev0 in /Users/loulou/anaconda3/lib/python3.8/site-packages (from numba->srd) (0.34.0)\n",
            "Requirement already satisfied: setuptools in /Users/loulou/anaconda3/lib/python3.8/site-packages (from numba->srd) (50.3.1.post20201107)\n",
            "Requirement already satisfied: pytz>=2017.3 in /Users/loulou/anaconda3/lib/python3.8/site-packages (from pandas->srd) (2020.1)\n",
            "Requirement already satisfied: python-dateutil>=2.7.3 in /Users/loulou/anaconda3/lib/python3.8/site-packages (from pandas->srd) (2.8.1)\n",
            "Requirement already satisfied: six>=1.5 in /Users/loulou/anaconda3/lib/python3.8/site-packages (from python-dateutil>=2.7.3->pandas->srd) (1.15.0)\n"
          ]
        }
      ],
      "source": [
        "!pip install srd"
      ]
    },
    {
      "cell_type": "markdown",
      "metadata": {},
      "source": [
        "We import the module with"
      ]
    },
    {
      "cell_type": "code",
      "execution_count": 3,
      "metadata": {
        "id": "-A1lVc98rk1m"
      },
      "outputs": [],
      "source": [
        "import srd"
      ]
    },
    {
      "cell_type": "markdown",
      "metadata": {
        "id": "Ap1ZWyCIr4Np"
      },
      "source": [
        "# Budget constraint\n",
        "\n",
        "For a use case, we can compute the real budget constraint faced by a worker. The SRD accounts for more than 90% of tax spending measures at the federal and provincial level. Here we look at the case of a worker in 2019 earning 10 000$ in labor income. "
      ]
    },
    {
      "cell_type": "code",
      "execution_count": 4,
      "metadata": {
        "id": "qzRYyIL3roWn"
      },
      "outputs": [],
      "source": [
        "jean = srd.Person(earn=10e3)\n",
        "case = srd.Hhold(jean)\n",
        "tax = srd.tax(2019)"
      ]
    },
    {
      "cell_type": "markdown",
      "metadata": {},
      "source": [
        "We compute his disposable income\n"
      ]
    },
    {
      "cell_type": "code",
      "execution_count": 5,
      "metadata": {
        "id": "tdshgphPruBJ"
      },
      "outputs": [],
      "source": [
        "case = tax.compute(case)"
      ]
    },
    {
      "cell_type": "code",
      "execution_count": 6,
      "metadata": {
        "colab": {
          "base_uri": "https://localhost:8080/",
          "height": 33
        },
        "id": "rJpiKH3vsJQL",
        "outputId": "4bb3c035-145e-4c36-8772-c1f8477a9b99"
      },
      "outputs": [
        {
          "data": {
            "text/plain": [
              "14608.16"
            ]
          },
          "execution_count": 6,
          "metadata": {},
          "output_type": "execute_result"
        }
      ],
      "source": [
        "case.fam_disp_inc"
      ]
    },
    {
      "cell_type": "markdown",
      "metadata": {},
      "source": [
        "After computing disposable income, we see that it is higher than his labor income. This is because he is eligible to a number of transfers. Now look at his budget constraint:  \n"
      ]
    },
    {
      "cell_type": "code",
      "execution_count": 7,
      "metadata": {
        "id": "cBOWIjmDsOIL"
      },
      "outputs": [],
      "source": [
        "wage = 35.0\n",
        "hours = np.linspace(0,60,100)"
      ]
    },
    {
      "cell_type": "code",
      "execution_count": 8,
      "metadata": {
        "id": "e_qYwvrYsYes"
      },
      "outputs": [],
      "source": [
        "netinc = []\n",
        "for h in hours: \n",
        "  jean = srd.Person(earn=wage*h*52)\n",
        "  case = srd.Hhold(jean)\n",
        "  case = tax.compute(case)\n",
        "  netinc.append(case.fam_disp_inc)\n"
      ]
    },
    {
      "cell_type": "markdown",
      "metadata": {},
      "source": [
        "We compute leisure, assuming 16 hours per day available for both work and leisure and 5 days a week. \n"
      ]
    },
    {
      "cell_type": "code",
      "execution_count": 9,
      "metadata": {
        "id": "VGSKoAK7tPJy"
      },
      "outputs": [],
      "source": [
        "leisure = 5*16 - hours"
      ]
    },
    {
      "cell_type": "markdown",
      "metadata": {},
      "source": [
        "We can now plot the budget constraint: \n"
      ]
    },
    {
      "cell_type": "code",
      "execution_count": 10,
      "metadata": {
        "colab": {
          "base_uri": "https://localhost:8080/",
          "height": 278
        },
        "id": "2uLhaiq6su0Y",
        "outputId": "0350436e-c764-4223-c13c-635e9b89d5f9"
      },
      "outputs": [
        {
          "data": {
            "image/png": "[encoded data removed]",
            "text/plain": [
              "<Figure size 432x288 with 1 Axes>"
            ]
          },
          "metadata": {
            "needs_background": "light"
          },
          "output_type": "display_data"
        }
      ],
      "source": [
        "plt.figure()\n",
        "plt.plot(leisure,netinc,label='constraint')\n",
        "plt.plot(leisure,hours*wage*52,label='without tax')\n",
        "plt.xlabel('leisure hours (per week)')\n",
        "plt.ylabel('disposable income')\n",
        "plt.ylim([0,max(netinc)])\n",
        "plt.legend()\n",
        "plt.show()"
      ]
    },
    {
      "cell_type": "markdown",
      "metadata": {
        "id": "ufBCD9LbuRqi"
      },
      "source": [
        "# EMTR"
      ]
    },
    {
      "cell_type": "markdown",
      "metadata": {},
      "source": [
        "We can compute EMTRs, effective marginal tax rates. "
      ]
    },
    {
      "cell_type": "code",
      "execution_count": 11,
      "metadata": {
        "id": "LlDUXoBSuQxq"
      },
      "outputs": [],
      "source": [
        "temis = []\n",
        "for i,h in enumerate(hours[:-1]): \n",
        "   x = 1.0 - (netinc[i+1] - netinc[i])/(wage*(hours[i+1]-hours[i])*52) \n",
        "   temis.append(x)"
      ]
    },
    {
      "cell_type": "markdown",
      "metadata": {},
      "source": [
        "We can plot EMTRs. We see that EMTRs are high at low levels of earnings. \n"
      ]
    },
    {
      "cell_type": "code",
      "execution_count": 12,
      "metadata": {
        "colab": {
          "base_uri": "https://localhost:8080/",
          "height": 281
        },
        "id": "iF-b6vtEvBF-",
        "outputId": "70523bd6-cdd5-4dfc-f606-c66b077dc522"
      },
      "outputs": [
        {
          "data": {
            "image/png": "[encoded data removed]",
            "text/plain": [
              "<Figure size 432x288 with 1 Axes>"
            ]
          },
          "metadata": {
            "needs_background": "light"
          },
          "output_type": "display_data"
        }
      ],
      "source": [
        "plt.figure()\n",
        "plt.plot(hours[:-1],temis,label='TEMI')\n",
        "plt.xlabel('heures travail (par semaine)')\n",
        "plt.ylabel('TEMI')\n",
        "plt.ylim([0,max(temis)])\n",
        "plt.legend()\n",
        "plt.show()"
      ]
    },
    {
      "cell_type": "markdown",
      "metadata": {
        "id": "Wk56YFkKwQ_n"
      },
      "source": [
        "# Utility and Optimal Choice\n",
        "\n",
        "We can implement an optimal choice solution. The first step is to specify a utility function"
      ]
    },
    {
      "cell_type": "code",
      "execution_count": 13,
      "metadata": {
        "id": "HoiMQwwJv5-O"
      },
      "outputs": [],
      "source": [
        "def u(c,h,phi,eps):\n",
        "  g = 1 + + 1/eps\n",
        "  return c - phi*(h**g) / g"
      ]
    },
    {
      "cell_type": "markdown",
      "metadata": {},
      "source": [
        "Now fix a few parameters\n"
      ]
    },
    {
      "cell_type": "code",
      "execution_count": 14,
      "metadata": {
        "id": "ccKe-9Tqw518"
      },
      "outputs": [],
      "source": [
        "eps = 1\n",
        "phi = 1e-2"
      ]
    },
    {
      "cell_type": "markdown",
      "metadata": {},
      "source": [
        "We can compute utility for a large number of hours worked. \n"
      ]
    },
    {
      "cell_type": "code",
      "execution_count": 15,
      "metadata": {
        "id": "kgIMldHWwuhL"
      },
      "outputs": [],
      "source": [
        "us = [u(c,h,phi,eps) for c,h in zip(netinc,hours*52)]"
      ]
    },
    {
      "cell_type": "markdown",
      "metadata": {},
      "source": [
        "We see that utility is bell shaped. The consumer might want to pick the number of hours which maximize utility. \n"
      ]
    },
    {
      "cell_type": "code",
      "execution_count": 16,
      "metadata": {
        "colab": {
          "base_uri": "https://localhost:8080/",
          "height": 267
        },
        "id": "mFYruQk9w4xr",
        "outputId": "e1785f96-9469-4f48-a98a-73aff8e01253"
      },
      "outputs": [
        {
          "data": {
            "image/png": "[encoded data removed]",
            "text/plain": [
              "<Figure size 432x288 with 1 Axes>"
            ]
          },
          "metadata": {
            "needs_background": "light"
          },
          "output_type": "display_data"
        }
      ],
      "source": [
        "plt.figure()\n",
        "plt.plot(hours,us)\n",
        "plt.show()"
      ]
    },
    {
      "cell_type": "markdown",
      "metadata": {},
      "source": [
        "We get the optimal choice by picking the maximum. "
      ]
    },
    {
      "cell_type": "code",
      "execution_count": 17,
      "metadata": {
        "id": "PENs0L97w_ac"
      },
      "outputs": [],
      "source": [
        "hopt = hours[np.argmax(us)]"
      ]
    },
    {
      "cell_type": "markdown",
      "metadata": {},
      "source": [
        "This yields"
      ]
    },
    {
      "cell_type": "code",
      "execution_count": 18,
      "metadata": {
        "colab": {
          "base_uri": "https://localhost:8080/",
          "height": 33
        },
        "id": "7d1OEwTPyptz",
        "outputId": "d122ce90-187f-40bf-9ae5-5eb0c0333a9f"
      },
      "outputs": [
        {
          "data": {
            "text/plain": [
              "42.42424242424242"
            ]
          },
          "execution_count": 18,
          "metadata": {},
          "output_type": "execute_result"
        }
      ],
      "source": [
        "hopt"
      ]
    },
    {
      "cell_type": "markdown",
      "metadata": {
        "id": "GkWVpbNR00J-"
      },
      "source": [
        "# Labor Supply\n",
        "\n",
        "We can now trace labor supply. "
      ]
    },
    {
      "cell_type": "code",
      "execution_count": 19,
      "metadata": {
        "id": "pj6BYyb-yqm8"
      },
      "outputs": [],
      "source": [
        "def supply(phi,eps,wage,tax):\n",
        "  hours = np.linspace(0.0,80.0)\n",
        "  netinc = []\n",
        "  for h in hours: \n",
        "    p = srd.Person(earn=wage*h*52)\n",
        "    case = srd.Hhold(p)\n",
        "    case = tax.compute(case)\n",
        "    netinc.append(case.fam_disp_inc)  \n",
        "  us = [u(c,h,phi,eps) for c,h in zip(netinc,hours*52)]\n",
        "  hopt = hours[np.argmax(us)]\n",
        "  return hopt"
      ]
    },
    {
      "cell_type": "code",
      "execution_count": 20,
      "metadata": {
        "id": "vi2stHzN0AQF"
      },
      "outputs": [],
      "source": [
        "wages = np.linspace(13.1,50.0,100)\n",
        "sc = [supply(1e-2,1.0,w,tax) for w in wages]"
      ]
    },
    {
      "cell_type": "markdown",
      "metadata": {},
      "source": [
        "We get a positive labor supply function with this utility function. The jumps are due to the discrete nature of our search for an optimum and the fact that the budget constraint as a few discrete changes as well. \n"
      ]
    },
    {
      "cell_type": "code",
      "execution_count": 21,
      "metadata": {
        "colab": {
          "base_uri": "https://localhost:8080/",
          "height": 278
        },
        "id": "00ruIKXB0Pj0",
        "outputId": "80cebdf4-7ece-458e-bbb6-eda86817266c"
      },
      "outputs": [
        {
          "data": {
            "image/png": "[encoded data removed]",
            "text/plain": [
              "<Figure size 432x288 with 1 Axes>"
            ]
          },
          "metadata": {
            "needs_background": "light"
          },
          "output_type": "display_data"
        }
      ],
      "source": [
        "plt.figure()\n",
        "plt.plot(wages,sc)\n",
        "plt.xlabel('hours worked')\n",
        "plt.ylabel('hourly wage')\n",
        "plt.show()"
      ]
    },
    {
      "cell_type": "markdown",
      "metadata": {
        "id": "8FSXkPfb1oYi"
      },
      "source": [
        "# Changing tax rates\n",
        "\n",
        "We can change income tax rates to see impacts on labor supply"
      ]
    },
    {
      "cell_type": "code",
      "execution_count": 22,
      "metadata": {
        "id": "HwhqyNdK1nVR"
      },
      "outputs": [],
      "source": [
        "tax2 = srd.tax(year=2019)"
      ]
    },
    {
      "cell_type": "code",
      "execution_count": 23,
      "metadata": {
        "id": "yxymk2Sa18XK"
      },
      "outputs": [],
      "source": [
        "tax2.federal.l_rates = [t*1.25 for t in tax2.federal.l_rates]"
      ]
    },
    {
      "cell_type": "code",
      "execution_count": 24,
      "metadata": {
        "colab": {
          "base_uri": "https://localhost:8080/",
          "height": 33
        },
        "id": "2ip6rGkn2zDb",
        "outputId": "5997209b-dcd2-45b8-b2dc-01e371c9298b"
      },
      "outputs": [
        {
          "data": {
            "text/plain": [
              "[0.1875, 0.25625, 0.325, 0.3625, 0.41250000000000003]"
            ]
          },
          "execution_count": 24,
          "metadata": {},
          "output_type": "execute_result"
        }
      ],
      "source": [
        "tax2.federal.l_rates"
      ]
    },
    {
      "cell_type": "code",
      "execution_count": 25,
      "metadata": {
        "id": "tA2J95cY2J71"
      },
      "outputs": [],
      "source": [
        "href = supply(1e-2,1.0,wage,tax)\n",
        "htax = supply(1e-2,1.0,wage,tax2)"
      ]
    },
    {
      "cell_type": "markdown",
      "metadata": {},
      "source": [
        "Labor supply decreases by an average of 3 hours per week. "
      ]
    },
    {
      "cell_type": "code",
      "execution_count": 26,
      "metadata": {
        "colab": {
          "base_uri": "https://localhost:8080/",
          "height": 33
        },
        "id": "ax-yBxCB2Rss",
        "outputId": "5fd49797-891f-4ccf-ce95-05c1c6f08110"
      },
      "outputs": [
        {
          "data": {
            "text/plain": [
              "(42.44897959183673, 39.183673469387756)"
            ]
          },
          "execution_count": 26,
          "metadata": {},
          "output_type": "execute_result"
        }
      ],
      "source": [
        "href,htax"
      ]
    },
    {
      "cell_type": "markdown",
      "metadata": {},
      "source": [
        "The elasticity for this change is -0.3. This type of estimate is very useful to understand the impacts of changes in tax structures. \n"
      ]
    },
    {
      "cell_type": "code",
      "execution_count": 27,
      "metadata": {
        "id": "So287nu42htc"
      },
      "outputs": [],
      "source": [
        "eta = (htax/href-1)/0.25"
      ]
    },
    {
      "cell_type": "code",
      "execution_count": 28,
      "metadata": {
        "colab": {
          "base_uri": "https://localhost:8080/",
          "height": 33
        },
        "id": "uF9waUd96fSs",
        "outputId": "4a86f8ce-fb31-4e06-917b-8205b0ffa3de"
      },
      "outputs": [
        {
          "data": {
            "text/plain": [
              "-0.3076923076923075"
            ]
          },
          "execution_count": 28,
          "metadata": {},
          "output_type": "execute_result"
        }
      ],
      "source": [
        "eta"
      ]
    },
    {
      "cell_type": "code",
      "execution_count": null,
      "metadata": {
        "id": "DnNV1-AwNHTS"
      },
      "outputs": [],
      "source": []
    }
  ],
  "metadata": {
    "colab": {
      "collapsed_sections": [],
      "name": "tax-example.ipynb",
      "provenance": []
    },
    "kernelspec": {
      "display_name": "Python 3",
      "name": "python3"
    },
    "language_info": {
      "codemirror_mode": {
        "name": "ipython",
        "version": 3
      },
      "file_extension": ".py",
      "mimetype": "text/x-python",
      "name": "python",
      "nbconvert_exporter": "python",
      "pygments_lexer": "ipython3",
      "version": "3.8.5"
    }
  },
  "nbformat": 4,
  "nbformat_minor": 2
}
